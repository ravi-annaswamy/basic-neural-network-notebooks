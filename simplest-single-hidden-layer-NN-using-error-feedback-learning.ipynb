{
 "cells": [
  {
   "cell_type": "markdown",
   "metadata": {},
   "source": [
    "## Simplest single hidden layer network using backprop\n",
    "\n",
    "Original code from Andrew Trask\n",
    "\n",
    "http://iamtrask.github.io/2015/07/12/basic-python-network/\n",
    "\n",
    "Notebook version: Ravi Annaswamy March 30, 2017"
   ]
  },
  {
   "cell_type": "code",
   "execution_count": 109,
   "metadata": {
    "collapsed": true
   },
   "outputs": [],
   "source": [
    "import numpy as np\n",
    "np.random.seed(1)"
   ]
  },
  {
   "cell_type": "markdown",
   "metadata": {},
   "source": [
    "Let us create an input dataset with four rows (four cases) and three columns each"
   ]
  },
  {
   "cell_type": "code",
   "execution_count": 110,
   "metadata": {
    "collapsed": false
   },
   "outputs": [
    {
     "data": {
      "text/plain": [
       "array([[0, 0, 1],\n",
       "       [0, 1, 1],\n",
       "       [1, 0, 1],\n",
       "       [1, 1, 1]])"
      ]
     },
     "execution_count": 110,
     "metadata": {},
     "output_type": "execute_result"
    }
   ],
   "source": [
    "X = np.array([[0,0,1],[0,1,1],[1,0,1],[1,1,1]])\n",
    "X"
   ]
  },
  {
   "cell_type": "markdown",
   "metadata": {},
   "source": [
    "Corresponding outputs"
   ]
  },
  {
   "cell_type": "code",
   "execution_count": 111,
   "metadata": {
    "collapsed": true
   },
   "outputs": [],
   "source": [
    "y = np.array([[0,0,1,1]]).T"
   ]
  },
  {
   "cell_type": "code",
   "execution_count": 112,
   "metadata": {
    "collapsed": false
   },
   "outputs": [
    {
     "data": {
      "text/plain": [
       "array([[0],\n",
       "       [0],\n",
       "       [1],\n",
       "       [1]])"
      ]
     },
     "execution_count": 112,
     "metadata": {},
     "output_type": "execute_result"
    }
   ],
   "source": [
    "y"
   ]
  },
  {
   "cell_type": "markdown",
   "metadata": {},
   "source": [
    "We will create a single layer network 3 input cells and one output cell, means that we\n",
    "need a 3x1 weight matrix.\n",
    "We will use numpy random generator and ask for 3 rows of 1 weight each.\n",
    "We will have these centered at 0 by initially generating from 0 to 2 and subtracting 1."
   ]
  },
  {
   "cell_type": "code",
   "execution_count": 113,
   "metadata": {
    "collapsed": true
   },
   "outputs": [],
   "source": [
    "W0 = 2*np.random.random((3,1))-1"
   ]
  },
  {
   "cell_type": "code",
   "execution_count": 114,
   "metadata": {
    "collapsed": false
   },
   "outputs": [
    {
     "data": {
      "text/plain": [
       "array([[-0.16595599],\n",
       "       [ 0.44064899],\n",
       "       [-0.99977125]])"
      ]
     },
     "execution_count": 114,
     "metadata": {},
     "output_type": "execute_result"
    }
   ],
   "source": [
    "W0"
   ]
  },
  {
   "cell_type": "markdown",
   "metadata": {},
   "source": [
    "Let us present the inputs to an input layer"
   ]
  },
  {
   "cell_type": "code",
   "execution_count": 115,
   "metadata": {
    "collapsed": true
   },
   "outputs": [],
   "source": [
    "L0 = X"
   ]
  },
  {
   "cell_type": "markdown",
   "metadata": {},
   "source": [
    "The output is obtained by multiplying the inputs one row at a time with the matrix.\n"
   ]
  },
  {
   "cell_type": "markdown",
   "metadata": {},
   "source": [
    "For instance, the first input case [0,0,1] is processed by these weights like this:\n",
    "    "
   ]
  },
  {
   "cell_type": "code",
   "execution_count": 116,
   "metadata": {
    "collapsed": false
   },
   "outputs": [
    {
     "data": {
      "text/plain": [
       "array([-0.99977125])"
      ]
     },
     "execution_count": 116,
     "metadata": {},
     "output_type": "execute_result"
    }
   ],
   "source": [
    "np.dot(X[0],W0)"
   ]
  },
  {
   "cell_type": "markdown",
   "metadata": {},
   "source": [
    "We could do all input rows at the same time! We save the output as Layer 1, L1"
   ]
  },
  {
   "cell_type": "code",
   "execution_count": 117,
   "metadata": {
    "collapsed": false
   },
   "outputs": [
    {
     "data": {
      "text/plain": [
       "array([[-0.99977125],\n",
       "       [-0.55912226],\n",
       "       [-1.16572724],\n",
       "       [-0.72507825]])"
      ]
     },
     "execution_count": 117,
     "metadata": {},
     "output_type": "execute_result"
    }
   ],
   "source": [
    "L1 = np.dot(L0,W0); L1"
   ]
  },
  {
   "cell_type": "markdown",
   "metadata": {},
   "source": [
    "This is cool because we can find our error against the four expected outputs stored in y"
   ]
  },
  {
   "cell_type": "code",
   "execution_count": 118,
   "metadata": {
    "collapsed": false
   },
   "outputs": [
    {
     "data": {
      "text/plain": [
       "array([[ 0.99977125],\n",
       "       [ 0.55912226],\n",
       "       [ 2.16572724],\n",
       "       [ 1.72507825]])"
      ]
     },
     "execution_count": 118,
     "metadata": {},
     "output_type": "execute_result"
    }
   ],
   "source": [
    "L1_error= y-L1; L1_error"
   ]
  },
  {
   "cell_type": "markdown",
   "metadata": {},
   "source": [
    "For case 1, we expected the network to give out a 0, but since the fourth input was on and it passed along\n",
    "its value, the output was -0.999, so we need to reduce the output to 0, and so the amount to change is 0.999"
   ]
  },
  {
   "cell_type": "code",
   "execution_count": 119,
   "metadata": {
    "collapsed": false
   },
   "outputs": [
    {
     "data": {
      "text/plain": [
       "array([[-0.99954255],\n",
       "       [-0.31261771],\n",
       "       [-2.52464724],\n",
       "       [-1.25081673]])"
      ]
     },
     "execution_count": 119,
     "metadata": {},
     "output_type": "execute_result"
    }
   ],
   "source": [
    "L1_delta = L1_error * L1; L1_delta"
   ]
  },
  {
   "cell_type": "markdown",
   "metadata": {},
   "source": [
    "This is the direction in which we have to adjust the weights."
   ]
  },
  {
   "cell_type": "code",
   "execution_count": 120,
   "metadata": {
    "collapsed": true
   },
   "outputs": [],
   "source": [
    "W0 += np.dot(L0.T, L1_delta)"
   ]
  },
  {
   "cell_type": "code",
   "execution_count": 121,
   "metadata": {
    "collapsed": false
   },
   "outputs": [
    {
     "data": {
      "text/plain": [
       "array([[-3.94141996],\n",
       "       [-1.12278545],\n",
       "       [-6.08739548]])"
      ]
     },
     "execution_count": 121,
     "metadata": {},
     "output_type": "execute_result"
    }
   ],
   "source": [
    "W0"
   ]
  },
  {
   "cell_type": "markdown",
   "metadata": {},
   "source": [
    "Has this improved outputs?"
   ]
  },
  {
   "cell_type": "code",
   "execution_count": 122,
   "metadata": {
    "collapsed": true
   },
   "outputs": [],
   "source": [
    "L1 = np.dot(L0, W0)"
   ]
  },
  {
   "cell_type": "code",
   "execution_count": 123,
   "metadata": {
    "collapsed": false
   },
   "outputs": [
    {
     "data": {
      "text/plain": [
       "array([[ -6.08739548],\n",
       "       [ -7.21018093],\n",
       "       [-10.02881544],\n",
       "       [-11.15160089]])"
      ]
     },
     "execution_count": 123,
     "metadata": {},
     "output_type": "execute_result"
    }
   ],
   "source": [
    "L1"
   ]
  },
  {
   "cell_type": "markdown",
   "metadata": {},
   "source": [
    "Yes it has! The first two rows now are more closer to 0 and the last two are more closer to 1 now!\n",
    "\n"
   ]
  },
  {
   "cell_type": "code",
   "execution_count": 124,
   "metadata": {
    "collapsed": false
   },
   "outputs": [
    {
     "name": "stdout",
     "output_type": "stream",
     "text": [
      "(0, array([[-0.99977125],\n",
      "       [-0.55912226],\n",
      "       [-1.16572724],\n",
      "       [-0.72507825]]))\n",
      "(1, array([[ -6.08739548],\n",
      "       [ -7.21018093],\n",
      "       [-10.02881544],\n",
      "       [-11.15160089]]))\n",
      "(2, array([[-341.24624596],\n",
      "       [-529.86554361],\n",
      "       [-591.30342369],\n",
      "       [-779.92272134]]))\n",
      "(3, array([[-1356838.15721241],\n",
      "       [-2246843.64480525],\n",
      "       [-2316378.63067319],\n",
      "       [-3206384.11826603]]))\n",
      "(4, array([[ -2.25358321e+13],\n",
      "       [ -3.78650417e+13],\n",
      "       [ -3.81823477e+13],\n",
      "       [ -5.35115572e+13]]))\n"
     ]
    }
   ],
   "source": [
    "np.random.seed(1)\n",
    "W0 = 2*np.random.random((3,1))-1\n",
    "for iter in xrange(5):\n",
    "        L0 = X\n",
    "        L1 = np.dot(L0, W0)\n",
    "        L1_error = y - L1\n",
    "        L1_delta = L1_error * L1\n",
    "        W0 +=  np.dot(L0.T, L1_delta)\n",
    "        print(iter, L1)"
   ]
  },
  {
   "cell_type": "markdown",
   "metadata": {
    "collapsed": true
   },
   "source": [
    "Ouch! What happened here?\n",
    "\n",
    "Until iteration 2, this were going good, and I was expecting\n",
    "that iteration 3 will be 0, 0, 1, 1 but instead all four numbers shot negative!\n",
    "\n",
    "In fact if you run it for 20 iterations, you will see crazily shooting up and down to large numbers!"
   ]
  },
  {
   "cell_type": "markdown",
   "metadata": {},
   "source": [
    "# Enter the Sigmoid.\n",
    "\n",
    "\n",
    "Very clever people, who had experience developing feedback control systems, got the insight into what is happening.\n",
    "\n",
    "If you feed unscaled feedback, it becomes positive feedback and values begin to shoot out!\n",
    "\n",
    "One solution is to use a multiplier like 0.01 to limit how much the weights will change each iteration. \n",
    "\n",
    "For this example, it will work, but in other cases, it will just postpone the out of control dance.\n",
    "\n",
    "What we really need is a way to ensure that the feedback signal will always be far less than one.\n",
    "\n",
    "This is done by rescaling outputs themselves in the range [0-1].\n",
    "\n",
    "The Sigmoid is a beautiful function that transforms a value ranging \n",
    "from negative infinity to positive infinity to range of [0-1].\n",
    "\n",
    "Remember, we need to limit both the output and the feedback amount to this range of [0-1].\n",
    "\n",
    "First the function itself."
   ]
  },
  {
   "cell_type": "code",
   "execution_count": 125,
   "metadata": {
    "collapsed": false
   },
   "outputs": [
    {
     "name": "stdout",
     "output_type": "stream",
     "text": [
      "(-20, 2.0611536181902037e-09)\n",
      "(100, 1.0)\n"
     ]
    }
   ],
   "source": [
    "def sigmoid(x):\n",
    "    return 1/(1+np.exp(-x))\n",
    "print(-20, sigmoid(-20))\n",
    "print(100, sigmoid(100))"
   ]
  },
  {
   "cell_type": "markdown",
   "metadata": {},
   "source": [
    "Now, let us make the feedback proportional to the slope of the output.\n",
    "In other words, if the output is large and negative, the feedback should be \n",
    "large and negative and so on."
   ]
  },
  {
   "cell_type": "code",
   "execution_count": 126,
   "metadata": {
    "collapsed": false
   },
   "outputs": [
    {
     "name": "stdout",
     "output_type": "stream",
     "text": [
      "(2, -2)\n",
      "(-1, -2)\n"
     ]
    }
   ],
   "source": [
    "def gradient(x):\n",
    "    return x*(1-x)\n",
    "print(2, gradient(2))\n",
    "print(-1, gradient(-1))"
   ]
  },
  {
   "cell_type": "markdown",
   "metadata": {},
   "source": [
    "Let us redo the forward computation and error delta with this new scheme.\n",
    "\n",
    "Since we have updated W0 once or twice above, I am resetting to initial known seed state in the first two lines."
   ]
  },
  {
   "cell_type": "code",
   "execution_count": 127,
   "metadata": {
    "collapsed": false
   },
   "outputs": [
    {
     "name": "stdout",
     "output_type": "stream",
     "text": [
      "('L1: ', array([[ 0.2689864 ],\n",
      "       [ 0.36375058],\n",
      "       [ 0.23762817],\n",
      "       [ 0.3262757 ]]))\n",
      "('Error: ', array([[-0.2689864 ],\n",
      "       [-0.36375058],\n",
      "       [ 0.76237183],\n",
      "       [ 0.6737243 ]]))\n",
      "('L1 gradient:', array([[ 0.19663272],\n",
      "       [ 0.23143609],\n",
      "       [ 0.18116102],\n",
      "       [ 0.21981987]]))\n",
      "('L1_delta: ', array([[-0.05289153],\n",
      "       [-0.08418501],\n",
      "       [ 0.13811206],\n",
      "       [ 0.14809799]]))\n"
     ]
    }
   ],
   "source": [
    "np.random.seed(1)\n",
    "W0 = 2*np.random.random((3,1))-1\n",
    "\n",
    "L0 = X\n",
    "L1 = sigmoid(np.dot(L0, W0))\n",
    "print('L1: ',L1)\n",
    "\n",
    "L1_error = y - L1\n",
    "print('Error: ', L1_error)\n",
    "\n",
    "L1_gradient = gradient(L1)\n",
    "print('L1 gradient:', L1_gradient)\n",
    "\n",
    "L1_delta = L1_error * L1_gradient\n",
    "print('L1_delta: ', L1_delta)"
   ]
  },
  {
   "cell_type": "markdown",
   "metadata": {},
   "source": [
    "Now we are ready to update weights, but by how much? We use the delta rule, that says weight update should depend on how high an input was and how much the error was! Makes sense."
   ]
  },
  {
   "cell_type": "code",
   "execution_count": 128,
   "metadata": {
    "collapsed": false
   },
   "outputs": [
    {
     "data": {
      "text/plain": [
       "array([[ 0.28621005],\n",
       "       [ 0.06391297],\n",
       "       [ 0.14913351]])"
      ]
     },
     "execution_count": 128,
     "metadata": {},
     "output_type": "execute_result"
    }
   ],
   "source": [
    "np.dot(L0.T, L1_delta)"
   ]
  },
  {
   "cell_type": "markdown",
   "metadata": {},
   "source": [
    "Let us do that."
   ]
  },
  {
   "cell_type": "code",
   "execution_count": 129,
   "metadata": {
    "collapsed": false
   },
   "outputs": [
    {
     "data": {
      "text/plain": [
       "array([[ 0.12025406],\n",
       "       [ 0.50456196],\n",
       "       [-0.85063774]])"
      ]
     },
     "execution_count": 129,
     "metadata": {},
     "output_type": "execute_result"
    }
   ],
   "source": [
    "W0 += np.dot(L0.T, L1_delta)\n",
    "W0"
   ]
  },
  {
   "cell_type": "markdown",
   "metadata": {},
   "source": [
    "Let us see if this will improve output next time."
   ]
  },
  {
   "cell_type": "code",
   "execution_count": 130,
   "metadata": {
    "collapsed": false
   },
   "outputs": [
    {
     "data": {
      "text/plain": [
       "array([[ 0.29929909],\n",
       "       [ 0.41433436],\n",
       "       [ 0.32511054],\n",
       "       [ 0.44378327]])"
      ]
     },
     "execution_count": 130,
     "metadata": {},
     "output_type": "execute_result"
    }
   ],
   "source": [
    "L1 = sigmoid(np.dot(L0, W0))\n",
    "L1"
   ]
  },
  {
   "cell_type": "markdown",
   "metadata": {},
   "source": [
    "Let us do it over and over again.\n"
   ]
  },
  {
   "cell_type": "code",
   "execution_count": 131,
   "metadata": {
    "collapsed": false
   },
   "outputs": [
    {
     "name": "stdout",
     "output_type": "stream",
     "text": [
      "(9999, array([[ 0.00966449],\n",
      "       [ 0.00786506],\n",
      "       [ 0.99358898],\n",
      "       [ 0.99211957]]))\n"
     ]
    }
   ],
   "source": [
    "np.random.seed(1)\n",
    "W0 = 2*np.random.random((3,1))-1\n",
    "for iter in xrange(10000):\n",
    "        L0 = X\n",
    "        L1 = sigmoid(np.dot(L0, W0))\n",
    "        L1_error = y - L1\n",
    "        L1_delta = L1_error * gradient(L1)\n",
    "        W0 += np.dot(L0.T, L1_delta)\n",
    "print(iter, L1)"
   ]
  },
  {
   "cell_type": "markdown",
   "metadata": {},
   "source": [
    "Wow! Success!"
   ]
  },
  {
   "cell_type": "code",
   "execution_count": null,
   "metadata": {
    "collapsed": true
   },
   "outputs": [],
   "source": []
  }
 ],
 "metadata": {
  "anaconda-cloud": {},
  "kernelspec": {
   "display_name": "Python [default]",
   "language": "python",
   "name": "python2"
  },
  "language_info": {
   "codemirror_mode": {
    "name": "ipython",
    "version": 2
   },
   "file_extension": ".py",
   "mimetype": "text/x-python",
   "name": "python",
   "nbconvert_exporter": "python",
   "pygments_lexer": "ipython2",
   "version": "2.7.12"
  }
 },
 "nbformat": 4,
 "nbformat_minor": 1
}
